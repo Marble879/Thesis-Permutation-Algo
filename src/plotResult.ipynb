{
 "cells": [
  {
   "cell_type": "code",
   "execution_count": 2,
   "metadata": {},
   "outputs": [],
   "source": [
    "import pandas as pd\n",
    "import matplotlib.pyplot as plt"
   ]
  },
  {
   "cell_type": "code",
   "execution_count": 3,
   "metadata": {},
   "outputs": [],
   "source": [
    "df0 = pd.read_csv('out_0.csv', sep=';')\n",
    "df1 = pd.read_csv('out_1.csv', sep=';')\n",
    "df2 = pd.read_csv('out_2.csv', sep=';')\n",
    "df3 = pd.read_csv('out_3.csv', sep=';')\n",
    "df4 = pd.read_csv('out_4.csv', sep=';')\n",
    "df5 = pd.read_csv('out_5.csv', sep=';')\n",
    "df6 = pd.read_csv('out_6.csv', sep=';')\n",
    "df7 = pd.read_csv('out_7.csv', sep=';')\n",
    "df8 = pd.read_csv('out_8.csv', sep=';')\n",
    "df10000 = pd.read_csv('out_10000.csv', sep=';')"
   ]
  },
  {
   "cell_type": "code",
   "execution_count": null,
   "metadata": {},
   "outputs": [],
   "source": [
    "plt.scatter(x=df0['morton'],y=df0['ts'], c='black', s=0.5)\n",
    "plt.xlabel=(\"Morton 1e10\")\n",
    "plt.ylabel=(\"Timestamp\")\n",
    "plt.show()"
   ]
  },
  {
   "cell_type": "code",
   "execution_count": null,
   "metadata": {},
   "outputs": [],
   "source": [
    "plt.scatter(x=df1['morton'],y=df1['ts'], c='black', s=0.5)\n",
    "plt.xlabel=(\"Morton 1e10\")\n",
    "plt.ylabel=(\"Timestamp\")\n",
    "plt.show()"
   ]
  },
  {
   "cell_type": "code",
   "execution_count": null,
   "metadata": {},
   "outputs": [],
   "source": [
    "plt.scatter(x=df2['morton'],y=df2['ts'], c='black', s=0.5)\n",
    "plt.xlabel=(\"Morton 1e10\")\n",
    "plt.ylabel=(\"Timestamp\")"
   ]
  },
  {
   "cell_type": "code",
   "execution_count": null,
   "metadata": {},
   "outputs": [],
   "source": [
    "plt.scatter(x=df3['morton'],y=df3['ts'], c='black', s=0.5)\n",
    "plt.xlabel=(\"Morton 1e10\")\n",
    "plt.ylabel=(\"Timestamp\")"
   ]
  },
  {
   "cell_type": "code",
   "execution_count": 4,
   "metadata": {},
   "outputs": [
    {
     "data": {
      "image/png": "[encoded data removed]",
      "text/plain": [
       "<Figure size 640x480 with 1 Axes>"
      ]
     },
     "metadata": {},
     "output_type": "display_data"
    },
    {
     "data": {
      "text/plain": [
       "<function matplotlib.pyplot.clf()>"
      ]
     },
     "execution_count": 4,
     "metadata": {},
     "output_type": "execute_result"
    }
   ],
   "source": [
    "plt.title('Permutation 4')\n",
    "plt.scatter(x=df4['morton'],y=df4['ts'], c='black', s=0.5)\n",
    "plt.xlabel('Morton')\n",
    "plt.ylabel('Timestamp (scaled)')\n",
    "plt.show()\n",
    "plt.clf"
   ]
  },
  {
   "cell_type": "code",
   "execution_count": null,
   "metadata": {},
   "outputs": [],
   "source": [
    "plt.scatter(x=df5['morton'],y=df5['ts'], c='black', s=0.5)\n",
    "plt.xlabel=(\"Morton 1e10\")\n",
    "plt.ylabel=(\"Timestamp\")"
   ]
  },
  {
   "cell_type": "code",
   "execution_count": null,
   "metadata": {},
   "outputs": [],
   "source": [
    "plt.scatter(x=df6['morton'],y=df6['ts'], c='black', s=0.5)\n",
    "plt.xlabel=(\"Morton 1e10\")\n",
    "plt.ylabel=(\"Timestamp\")"
   ]
  },
  {
   "cell_type": "code",
   "execution_count": null,
   "metadata": {},
   "outputs": [],
   "source": [
    "plt.scatter(x=df7['morton'],y=df7['ts'], c='black', s=0.5)\n",
    "plt.xlabel=(\"Morton 1e10\")\n",
    "plt.ylabel=(\"Timestamp\")"
   ]
  },
  {
   "cell_type": "code",
   "execution_count": null,
   "metadata": {},
   "outputs": [],
   "source": [
    "plt.scatter(x=df8['morton'],y=df8['ts'], c='black', s=0.5)\n",
    "plt.xlabel=(\"Morton 1e10\")\n",
    "plt.ylabel=(\"Timestamp\")"
   ]
  },
  {
   "cell_type": "code",
   "execution_count": null,
   "metadata": {},
   "outputs": [],
   "source": [
    "plt.title('Permutation 10,000')\n",
    "plt.scatter(x=df10000['morton'],y=df0['ts'], c='black', s=0.5)\n",
    "plt.xlabel=(\"Morton 1e10\")\n",
    "plt.ylabel=(\"Timestamp (scaled)\")\n",
    "plt.show()\n",
    "plt.clf"
   ]
  },
  {
   "cell_type": "code",
   "execution_count": null,
   "metadata": {},
   "outputs": [],
   "source": []
  }
 ],
 "metadata": {
  "kernelspec": {
   "display_name": "Python 3 (ipykernel)",
   "language": "python",
   "name": "python3"
  },
  "language_info": {
   "codemirror_mode": {
    "name": "ipython",
    "version": 3
   },
   "file_extension": ".py",
   "mimetype": "text/x-python",
   "name": "python",
   "nbconvert_exporter": "python",
   "pygments_lexer": "ipython3",
   "version": "3.10.6"
  }
 },
 "nbformat": 4,
 "nbformat_minor": 2
}
